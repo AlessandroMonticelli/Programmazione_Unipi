{
  "nbformat": 4,
  "nbformat_minor": 0,
  "metadata": {
    "colab": {
      "provenance": [],
      "authorship_tag": "ABX9TyNYZ6MPJAWUozZbgnBKBABS",
      "include_colab_link": true
    },
    "kernelspec": {
      "name": "python3",
      "display_name": "Python 3"
    },
    "language_info": {
      "name": "python"
    }
  },
  "cells": [
    {
      "cell_type": "markdown",
      "metadata": {
        "id": "view-in-github",
        "colab_type": "text"
      },
      "source": [
        "<a href=\"https://colab.research.google.com/github/AlessandroMonticelli/Programmazione_Unipi/blob/master/Git_Puller.ipynb\" target=\"_parent\"><img src=\"https://colab.research.google.com/assets/colab-badge.svg\" alt=\"Open In Colab\"/></a>"
      ]
    },
    {
      "cell_type": "markdown",
      "source": [
        "Utilizzare questo Notebook per importare repository da Github a google drive e a Google Colab"
      ],
      "metadata": {
        "id": "SL96M3wA5c3j"
      }
    },
    {
      "cell_type": "markdown",
      "source": [
        "Caricamento del Drive su Google Colab"
      ],
      "metadata": {
        "id": "Ow9W5mjv6BdH"
      }
    },
    {
      "cell_type": "code",
      "execution_count": null,
      "metadata": {
        "id": "hkMpj_6a5ZTM"
      },
      "outputs": [],
      "source": [
        "from google.colab import drive\n",
        "drive.mount('/content/MyDrive')"
      ]
    },
    {
      "cell_type": "code",
      "source": [
        "!mkdir '/content/MyDrive/MyDrive/Archivio/Repo_Cfr' #Create una cartella per la repository nel vostro Drive\n",
        "%cd '/content/MyDrive/MyDrive/Archivio/Repo_Cfr' #Spostatevi nella cartella destinata alla reppository"
      ],
      "metadata": {
        "id": "pBXca4-A7Dg-"
      },
      "execution_count": 2,
      "outputs": []
    },
    {
      "cell_type": "code",
      "source": [
        "! git clone https://github.com/sadeepj/crfasrnn_keras.git #Clonate la repo desiderata tramite link"
      ],
      "metadata": {
        "id": "gN2mNsD_7F8T"
      },
      "execution_count": null,
      "outputs": []
    },
    {
      "cell_type": "code",
      "source": [
        "%cd '/content' #Tornate nella cartella iniziale"
      ],
      "metadata": {
        "id": "z5pkwoxu9JLz"
      },
      "execution_count": null,
      "outputs": []
    },
    {
      "cell_type": "markdown",
      "source": [],
      "metadata": {
        "id": "aLspouRn8_9I"
      }
    }
  ]
}